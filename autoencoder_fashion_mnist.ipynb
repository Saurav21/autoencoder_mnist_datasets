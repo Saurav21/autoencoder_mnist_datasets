{
  "nbformat": 4,
  "nbformat_minor": 0,
  "metadata": {
    "colab": {
      "name": "autoencoder_fashion_mnist.ipynb",
      "provenance": []
    },
    "kernelspec": {
      "name": "python3",
      "display_name": "Python 3"
    },
    "language_info": {
      "name": "python"
    }
  },
  "cells": [
    {
      "cell_type": "code",
      "metadata": {
        "id": "76Sw62J3YvYa"
      },
      "source": [
        "import tensorflow as tf"
      ],
      "execution_count": 1,
      "outputs": []
    },
    {
      "cell_type": "code",
      "metadata": {
        "id": "7ct3-RVgayZd"
      },
      "source": [
        "(x_train,y_train),(x_test,y_test) = tf.keras.datasets.fashion_mnist.load_data()"
      ],
      "execution_count": 31,
      "outputs": []
    },
    {
      "cell_type": "code",
      "metadata": {
        "colab": {
          "base_uri": "https://localhost:8080/"
        },
        "id": "O93U7NnYayWq",
        "outputId": "ff63ea29-787c-4e43-e2e1-53f9455cce50"
      },
      "source": [
        "x_train.shape, y_train.shape, x_test.shape, y_test.shape"
      ],
      "execution_count": 32,
      "outputs": [
        {
          "output_type": "execute_result",
          "data": {
            "text/plain": [
              "((60000, 28, 28), (60000,), (10000, 28, 28), (10000,))"
            ]
          },
          "metadata": {},
          "execution_count": 32
        }
      ]
    },
    {
      "cell_type": "code",
      "metadata": {
        "colab": {
          "base_uri": "https://localhost:8080/",
          "height": 281
        },
        "id": "7dZuImMzayTd",
        "outputId": "28c14240-0d3f-40fd-d6fb-1d6427e8bb92"
      },
      "source": [
        "# visualizing the data\n",
        "import matplotlib.pyplot as plt\n",
        "import random \n",
        "\n",
        "n = random.randint(1, 60000)\n",
        "\n",
        "plt.imshow(x_train[n])\n",
        "plt.title(y_train[n])\n",
        "plt.show()"
      ],
      "execution_count": 34,
      "outputs": [
        {
          "output_type": "display_data",
          "data": {
            "image/png": "[encoded data removed]",
            "text/plain": [
              "<Figure size 432x288 with 1 Axes>"
            ]
          },
          "metadata": {
            "needs_background": "light"
          }
        }
      ]
    },
    {
      "cell_type": "code",
      "metadata": {
        "id": "cI74P3LiayQk"
      },
      "source": [
        "# normalizing the data\n",
        "\n",
        "x_train = x_train/255\n",
        "x_test = x_test/255"
      ],
      "execution_count": 35,
      "outputs": []
    },
    {
      "cell_type": "code",
      "metadata": {
        "colab": {
          "base_uri": "https://localhost:8080/"
        },
        "id": "bf4vmBoPayN4",
        "outputId": "7d18c80f-5e84-48f8-a51c-66ec8bae9943"
      },
      "source": [
        "x_train.shape, x_test.shape"
      ],
      "execution_count": 36,
      "outputs": [
        {
          "output_type": "execute_result",
          "data": {
            "text/plain": [
              "((60000, 28, 28), (10000, 28, 28))"
            ]
          },
          "metadata": {},
          "execution_count": 36
        }
      ]
    },
    {
      "cell_type": "code",
      "metadata": {
        "colab": {
          "base_uri": "https://localhost:8080/"
        },
        "id": "IdWs55XFayKz",
        "outputId": "90f3fd2f-0e8b-4ba4-be01-586738b9e7a1"
      },
      "source": [
        "# creating noise as the same dimension of the image\n",
        "import numpy as np\n",
        "noise = np.random.randn(*(28,28))\n",
        "\n",
        "noise.shape"
      ],
      "execution_count": 37,
      "outputs": [
        {
          "output_type": "execute_result",
          "data": {
            "text/plain": [
              "(28, 28)"
            ]
          },
          "metadata": {},
          "execution_count": 37
        }
      ]
    },
    {
      "cell_type": "code",
      "metadata": {
        "colab": {
          "base_uri": "https://localhost:8080/"
        },
        "id": "DPxzOO6MayHr",
        "outputId": "3bcb2cac-5995-4564-fb9e-02dd4f7e62d1"
      },
      "source": [
        "# adding factor to the noise\n",
        "\n",
        "factor = 0.2\n",
        "\n",
        "noise_factor = factor * noise\n",
        "\n",
        "noise_factor.shape"
      ],
      "execution_count": 38,
      "outputs": [
        {
          "output_type": "execute_result",
          "data": {
            "text/plain": [
              "(28, 28)"
            ]
          },
          "metadata": {},
          "execution_count": 38
        }
      ]
    },
    {
      "cell_type": "code",
      "metadata": {
        "colab": {
          "base_uri": "https://localhost:8080/",
          "height": 302
        },
        "id": "JDwtLPa_ayEs",
        "outputId": "97c2c9a8-037c-4dbc-ab69-cce5d4e5a1fe"
      },
      "source": [
        "# visualizing the noise amd noise factor\n",
        "plt.figure(figsize=(10,8))\n",
        "plt.subplot(1,2,1)\n",
        "plt.imshow(noise)\n",
        "plt.subplot(1,2,2)\n",
        "plt.imshow(noise_factor)\n",
        "plt.show()"
      ],
      "execution_count": 39,
      "outputs": [
        {
          "output_type": "display_data",
          "data": {
            "image/png": "[encoded data removed]",
            "text/plain": [
              "<Figure size 720x576 with 2 Axes>"
            ]
          },
          "metadata": {
            "needs_background": "light"
          }
        }
      ]
    },
    {
      "cell_type": "code",
      "metadata": {
        "colab": {
          "base_uri": "https://localhost:8080/",
          "height": 213
        },
        "id": "VAPl4CGqayB1",
        "outputId": "4850c343-f6b7-4c28-e292-abbbae09fa83"
      },
      "source": [
        "# visualizing the train data with noise\n",
        "plt.figure(figsize=(10,12))\n",
        "sample_image = x_train[25]\n",
        "noise_sample_image = sample_image + factor * noise\n",
        "noise_sample_image_clip = np.clip(noise_sample_image, 0.0,1.0)\n",
        "plt.subplot(1,3,1)\n",
        "plt.imshow(sample_image)\n",
        "plt.subplot(1,3,2)\n",
        "plt.imshow(noise_sample_image)\n",
        "plt.subplot(1,3,3)\n",
        "plt.imshow(noise_sample_image_clip)\n",
        "plt.show()"
      ],
      "execution_count": 40,
      "outputs": [
        {
          "output_type": "display_data",
          "data": {
            "image/png": "[encoded data removed]",
            "text/plain": [
              "<Figure size 720x864 with 3 Axes>"
            ]
          },
          "metadata": {
            "needs_background": "light"
          }
        }
      ]
    },
    {
      "cell_type": "code",
      "metadata": {
        "id": "fxAus9Lbax-z"
      },
      "source": [
        "# adding noise to the train data\n",
        "import numpy as np\n",
        "x_train_noise = []\n",
        "factor = 0.2\n",
        "noise = np.random.randn(*(28,28))\n",
        "\n",
        "for image in x_train:\n",
        "  noise_image = image + factor * noise\n",
        "  noise_image = np.clip(noise_image, 0.0, 1.0)\n",
        "  x_train_noise.append(noise_image)\n"
      ],
      "execution_count": 41,
      "outputs": []
    },
    {
      "cell_type": "code",
      "metadata": {
        "id": "l47B3nIIax71"
      },
      "source": [
        "x_train_noise = np.array(x_train_noise)"
      ],
      "execution_count": 42,
      "outputs": []
    },
    {
      "cell_type": "code",
      "metadata": {
        "colab": {
          "base_uri": "https://localhost:8080/"
        },
        "id": "znclb5pkax48",
        "outputId": "78ed252e-d672-4d52-a927-47ab4b6f81f5"
      },
      "source": [
        "x_train_noise.shape"
      ],
      "execution_count": 43,
      "outputs": [
        {
          "output_type": "execute_result",
          "data": {
            "text/plain": [
              "(60000, 28, 28)"
            ]
          },
          "metadata": {},
          "execution_count": 43
        }
      ]
    },
    {
      "cell_type": "code",
      "metadata": {
        "id": "eGGc8khYax17"
      },
      "source": [
        "# adding noise to the test data\n",
        "\n",
        "x_test_noise = []\n",
        "factor = 0.2\n",
        "noise = np.random.randn(*(28,28))\n",
        "\n",
        "for image in x_test:\n",
        "  noise_image = image + factor * noise\n",
        "  noise_image = np.clip(noise_image, 0.0,1.0)\n",
        "  x_test_noise.append(noise_image)"
      ],
      "execution_count": 44,
      "outputs": []
    },
    {
      "cell_type": "code",
      "metadata": {
        "id": "82AIV9ChaxzD"
      },
      "source": [
        "x_test_noise = np.array(x_test_noise)"
      ],
      "execution_count": 45,
      "outputs": []
    },
    {
      "cell_type": "code",
      "metadata": {
        "colab": {
          "base_uri": "https://localhost:8080/"
        },
        "id": "4boSrHLxaxwD",
        "outputId": "27873d2d-1be7-4423-dfa0-e76616c54361"
      },
      "source": [
        "x_test_noise.shape"
      ],
      "execution_count": 46,
      "outputs": [
        {
          "output_type": "execute_result",
          "data": {
            "text/plain": [
              "(10000, 28, 28)"
            ]
          },
          "metadata": {},
          "execution_count": 46
        }
      ]
    },
    {
      "cell_type": "code",
      "metadata": {
        "colab": {
          "base_uri": "https://localhost:8080/",
          "height": 318
        },
        "id": "VVe1DY6zaxtD",
        "outputId": "3383237b-d5bd-48f8-da20-f10a27d13ec4"
      },
      "source": [
        "# visualizing the train and test data\n",
        "import random\n",
        "\n",
        "n = random.randint(1, 1000)\n",
        "\n",
        "plt.figure(figsize=(10,8))\n",
        "\n",
        "plt.subplot(1,2,1)\n",
        "plt.imshow(x_train_noise[n])\n",
        "plt.title(y_train[n])\n",
        "plt.subplot(1,2,2)\n",
        "plt.imshow(x_test_noise[n])\n",
        "plt.title(y_test[n])\n",
        "plt.show()\n",
        "\n",
        "\n",
        "\n",
        "\n"
      ],
      "execution_count": 50,
      "outputs": [
        {
          "output_type": "display_data",
          "data": {
            "image/png": "[encoded data removed]",
            "text/plain": [
              "<Figure size 720x576 with 2 Axes>"
            ]
          },
          "metadata": {
            "needs_background": "light"
          }
        }
      ]
    },
    {
      "cell_type": "code",
      "metadata": {
        "id": "gA2tEIuxaxqD"
      },
      "source": [
        "# buillding the autoencoder model\n",
        "import tensorflow as tf\n",
        "from tensorflow.keras import layers\n",
        "\n",
        "model = tf.keras.Sequential([\n",
        "                             # encoding\n",
        "                             layers.Conv2D(filters = 16, kernel_size= 3, strides =1, padding = \"same\", input_shape = (28,28,1)),\n",
        "                             layers.MaxPool2D(pool_size= 2, padding=\"same\"),\n",
        "                             layers.Conv2D(filters = 8, kernel_size= 3, strides = 1, padding = \"same\"),\n",
        "                             layers.MaxPool2D(pool_size= 2, padding = \"same\"),\n",
        "                             layers.Conv2D(filters= 8, kernel_size= 3, padding = \"same\"),\n",
        "\n",
        "                             # decoding\n",
        "\n",
        "                             layers.UpSampling2D(size= 2),\n",
        "                             layers.Conv2DTranspose(filters= 8, strides= 1 ,kernel_size= 3, padding = \"same\"),\n",
        "                             layers.UpSampling2D(size= 2),\n",
        "                             layers.Conv2DTranspose(filters = 1, kernel_size= 3, strides= 1, activation=\"sigmoid\", padding = \"same\" )\n",
        "\n",
        "])"
      ],
      "execution_count": 54,
      "outputs": []
    },
    {
      "cell_type": "code",
      "metadata": {
        "colab": {
          "base_uri": "https://localhost:8080/"
        },
        "id": "J80nxK4jaxnT",
        "outputId": "659dd3c5-40cd-49b2-c289-cfced6581e68"
      },
      "source": [
        "model.summary()"
      ],
      "execution_count": 55,
      "outputs": [
        {
          "output_type": "stream",
          "name": "stdout",
          "text": [
            "Model: \"sequential\"\n",
            "_________________________________________________________________\n",
            "Layer (type)                 Output Shape              Param #   \n",
            "=================================================================\n",
            "conv2d (Conv2D)              (None, 28, 28, 16)        160       \n",
            "_________________________________________________________________\n",
            "max_pooling2d (MaxPooling2D) (None, 14, 14, 16)        0         \n",
            "_________________________________________________________________\n",
            "conv2d_1 (Conv2D)            (None, 14, 14, 8)         1160      \n",
            "_________________________________________________________________\n",
            "max_pooling2d_1 (MaxPooling2 (None, 7, 7, 8)           0         \n",
            "_________________________________________________________________\n",
            "conv2d_2 (Conv2D)            (None, 7, 7, 8)           584       \n",
            "_________________________________________________________________\n",
            "up_sampling2d (UpSampling2D) (None, 14, 14, 8)         0         \n",
            "_________________________________________________________________\n",
            "conv2d_transpose (Conv2DTran (None, 14, 14, 8)         584       \n",
            "_________________________________________________________________\n",
            "up_sampling2d_1 (UpSampling2 (None, 28, 28, 8)         0         \n",
            "_________________________________________________________________\n",
            "conv2d_transpose_1 (Conv2DTr (None, 28, 28, 1)         73        \n",
            "=================================================================\n",
            "Total params: 2,561\n",
            "Trainable params: 2,561\n",
            "Non-trainable params: 0\n",
            "_________________________________________________________________\n"
          ]
        }
      ]
    },
    {
      "cell_type": "code",
      "metadata": {
        "id": "2uRvRJZAaxkL"
      },
      "source": [
        "# compiling the model\n",
        "\n",
        "model.compile(\n",
        "   loss = tf.keras.losses.binary_crossentropy,\n",
        "   optimizer = tf.keras.optimizers.Adam(learning_rate= 0.001),\n",
        "   metrics = [\"accuracy\"]\n",
        "\n",
        ")"
      ],
      "execution_count": 56,
      "outputs": []
    },
    {
      "cell_type": "code",
      "metadata": {
        "colab": {
          "base_uri": "https://localhost:8080/"
        },
        "id": "RzshAWWoaxhT",
        "outputId": "3677badc-900d-4b2d-96b9-3ced534eb114"
      },
      "source": [
        "# fitting the model\n",
        "\n",
        "model.fit(\n",
        "     x_train_noise.reshape(-1,28,28,1),\n",
        "    x_train.reshape(-1,28,28,1),\n",
        "    epochs = 10,\n",
        "    batch_size = 200,\n",
        ")"
      ],
      "execution_count": 57,
      "outputs": [
        {
          "output_type": "stream",
          "name": "stdout",
          "text": [
            "Epoch 1/10\n",
            "300/300 [==============================] - 45s 148ms/step - loss: 0.3563 - accuracy: 0.5045\n",
            "Epoch 2/10\n",
            "300/300 [==============================] - 45s 148ms/step - loss: 0.3061 - accuracy: 0.5072\n",
            "Epoch 3/10\n",
            "300/300 [==============================] - 45s 149ms/step - loss: 0.3002 - accuracy: 0.5077\n",
            "Epoch 4/10\n",
            "300/300 [==============================] - 44s 148ms/step - loss: 0.2970 - accuracy: 0.5079\n",
            "Epoch 5/10\n",
            "300/300 [==============================] - 44s 148ms/step - loss: 0.2950 - accuracy: 0.5080\n",
            "Epoch 6/10\n",
            "300/300 [==============================] - 44s 148ms/step - loss: 0.2934 - accuracy: 0.5081\n",
            "Epoch 7/10\n",
            "300/300 [==============================] - 44s 148ms/step - loss: 0.2922 - accuracy: 0.5082\n",
            "Epoch 8/10\n",
            "300/300 [==============================] - 44s 148ms/step - loss: 0.2911 - accuracy: 0.5083\n",
            "Epoch 9/10\n",
            "300/300 [==============================] - 44s 148ms/step - loss: 0.2902 - accuracy: 0.5084\n",
            "Epoch 10/10\n",
            "300/300 [==============================] - 44s 148ms/step - loss: 0.2897 - accuracy: 0.5084\n"
          ]
        },
        {
          "output_type": "execute_result",
          "data": {
            "text/plain": [
              "<keras.callbacks.History at 0x7fc621751b50>"
            ]
          },
          "metadata": {},
          "execution_count": 57
        }
      ]
    },
    {
      "cell_type": "code",
      "metadata": {
        "id": "lcBozhL1axej"
      },
      "source": [
        "# model prediction\n",
        "\n",
        "model_image_prediction = model.predict(x_test_noise[:10].reshape(-1,28,28,1))"
      ],
      "execution_count": 58,
      "outputs": []
    },
    {
      "cell_type": "code",
      "metadata": {
        "colab": {
          "base_uri": "https://localhost:8080/"
        },
        "id": "8WAUB3Hkaxbj",
        "outputId": "358f2b30-a633-450f-b17f-dac70833bc7c"
      },
      "source": [
        "model_image_prediction.shape"
      ],
      "execution_count": 59,
      "outputs": [
        {
          "output_type": "execute_result",
          "data": {
            "text/plain": [
              "(10, 28, 28, 1)"
            ]
          },
          "metadata": {},
          "execution_count": 59
        }
      ]
    },
    {
      "cell_type": "code",
      "metadata": {
        "colab": {
          "base_uri": "https://localhost:8080/",
          "height": 286
        },
        "id": "vx8UqyngaxY1",
        "outputId": "612a8e03-0fd4-4418-80d7-c5016aeb0bda"
      },
      "source": [
        "# visualizing the result\n",
        "\n",
        "fig, axes = plt.subplots(nrows = 2, ncols = 10, figsize = (30,8))\n",
        "\n",
        "for images, row in zip([x_test_noise[:10], model_image_prediction], axes):\n",
        "  for img, ax in zip(images,row):\n",
        "    ax.imshow(img.reshape((28,28)))"
      ],
      "execution_count": 61,
      "outputs": [
        {
          "output_type": "display_data",
          "data": {
            "image/png": "[encoded data removed]",
            "text/plain": [
              "<Figure size 2160x576 with 20 Axes>"
            ]
          },
          "metadata": {
            "needs_background": "light"
          }
        }
      ]
    },
    {
      "cell_type": "code",
      "metadata": {
        "id": "vq2osQCLaxWD"
      },
      "source": [
        ""
      ],
      "execution_count": null,
      "outputs": []
    },
    {
      "cell_type": "code",
      "metadata": {
        "id": "yKu5NyNaaxTG"
      },
      "source": [
        ""
      ],
      "execution_count": null,
      "outputs": []
    },
    {
      "cell_type": "code",
      "metadata": {
        "id": "mA8sb4JCaxQD"
      },
      "source": [
        ""
      ],
      "execution_count": null,
      "outputs": []
    },
    {
      "cell_type": "code",
      "metadata": {
        "id": "7FK-7p2SaxNT"
      },
      "source": [
        ""
      ],
      "execution_count": null,
      "outputs": []
    },
    {
      "cell_type": "code",
      "metadata": {
        "id": "HLdM5GWGaxKj"
      },
      "source": [
        ""
      ],
      "execution_count": null,
      "outputs": []
    },
    {
      "cell_type": "code",
      "metadata": {
        "id": "9nun3PxjaxHr"
      },
      "source": [
        ""
      ],
      "execution_count": null,
      "outputs": []
    },
    {
      "cell_type": "code",
      "metadata": {
        "id": "VVnfY-woaxE0"
      },
      "source": [
        ""
      ],
      "execution_count": null,
      "outputs": []
    },
    {
      "cell_type": "code",
      "metadata": {
        "id": "d5zYYBs1axCF"
      },
      "source": [
        ""
      ],
      "execution_count": null,
      "outputs": []
    },
    {
      "cell_type": "code",
      "metadata": {
        "id": "_OVX7P9Paw_c"
      },
      "source": [
        ""
      ],
      "execution_count": null,
      "outputs": []
    },
    {
      "cell_type": "code",
      "metadata": {
        "id": "Qkjdujb7aw8L"
      },
      "source": [
        ""
      ],
      "execution_count": null,
      "outputs": []
    }
  ]
}