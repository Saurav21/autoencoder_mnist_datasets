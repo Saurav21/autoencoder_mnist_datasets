{
  "nbformat": 4,
  "nbformat_minor": 0,
  "metadata": {
    "colab": {
      "name": "autoencoder_digit_mnist.ipynb",
      "provenance": [],
      "collapsed_sections": []
    },
    "kernelspec": {
      "name": "python3",
      "display_name": "Python 3"
    },
    "language_info": {
      "name": "python"
    }
  },
  "cells": [
    {
      "cell_type": "code",
      "metadata": {
        "id": "fu08ASzc-odP"
      },
      "source": [
        "import tensorflow as tf"
      ],
      "execution_count": 1,
      "outputs": []
    },
    {
      "cell_type": "code",
      "metadata": {
        "id": "lqylqyrp_8-d"
      },
      "source": [
        "# importing digit mnist dataset\n",
        "(x_train,y_train),(x_test, y_test) = tf.keras.datasets.mnist.load_data()"
      ],
      "execution_count": 60,
      "outputs": []
    },
    {
      "cell_type": "code",
      "metadata": {
        "colab": {
          "base_uri": "https://localhost:8080/"
        },
        "id": "7H4yilG2AR2w",
        "outputId": "6dfa5c9b-d76d-4bcb-da7d-bcf60eebb3b8"
      },
      "source": [
        "x_train.shape, y_train.shape, x_test.shape, y_test.shape"
      ],
      "execution_count": 61,
      "outputs": [
        {
          "output_type": "execute_result",
          "data": {
            "text/plain": [
              "((60000, 28, 28), (60000,), (10000, 28, 28), (10000,))"
            ]
          },
          "metadata": {},
          "execution_count": 61
        }
      ]
    },
    {
      "cell_type": "code",
      "metadata": {
        "colab": {
          "base_uri": "https://localhost:8080/",
          "height": 299
        },
        "id": "baTdjM60AZkE",
        "outputId": "f0c6f729-682f-4d4c-cc88-a9c08ff3d811"
      },
      "source": [
        "#visualizing the  data\n",
        "import matplotlib.pyplot as plt\n",
        "import random\n",
        "\n",
        "\n",
        "n = random.randint(1, 60000)\n",
        "\n",
        "plt.imshow(x_train[n])\n",
        "plt.title(y_train[n])\n",
        "\n"
      ],
      "execution_count": 62,
      "outputs": [
        {
          "output_type": "execute_result",
          "data": {
            "text/plain": [
              "Text(0.5, 1.0, '2')"
            ]
          },
          "metadata": {},
          "execution_count": 62
        },
        {
          "output_type": "display_data",
          "data": {
            "image/png": "[encoded data removed]",
            "text/plain": [
              "<Figure size 432x288 with 1 Axes>"
            ]
          },
          "metadata": {
            "needs_background": "light"
          }
        }
      ]
    },
    {
      "cell_type": "code",
      "metadata": {
        "id": "xnS4ghl8BNZ6"
      },
      "source": [
        "# normalizing the data\n",
        "\n",
        "x_train = x_train/255\n",
        "x_test = x_test/255"
      ],
      "execution_count": 63,
      "outputs": []
    },
    {
      "cell_type": "code",
      "metadata": {
        "colab": {
          "base_uri": "https://localhost:8080/"
        },
        "id": "5FDwqIjq7GYZ",
        "outputId": "0a073894-609d-4549-e1e3-694f68544b5f"
      },
      "source": [
        "# creating noise with the same dimiesion of the original image\n",
        "\n",
        "noise = np.random.randn( *(28,28))\n",
        "\n",
        "noise.shape"
      ],
      "execution_count": 64,
      "outputs": [
        {
          "output_type": "execute_result",
          "data": {
            "text/plain": [
              "(28, 28)"
            ]
          },
          "metadata": {},
          "execution_count": 64
        }
      ]
    },
    {
      "cell_type": "code",
      "metadata": {
        "colab": {
          "base_uri": "https://localhost:8080/"
        },
        "id": "uV3_Ze-X7aGU",
        "outputId": "e1119c75-050e-4bf2-97b9-9a243d4672a7"
      },
      "source": [
        "# adding factor to the noise\n",
        "noise_factor = 0.2\n",
        "fac_noise = noise_factor * noise\n",
        "\n",
        "fac_noise.shape"
      ],
      "execution_count": 65,
      "outputs": [
        {
          "output_type": "execute_result",
          "data": {
            "text/plain": [
              "(28, 28)"
            ]
          },
          "metadata": {},
          "execution_count": 65
        }
      ]
    },
    {
      "cell_type": "code",
      "metadata": {
        "colab": {
          "base_uri": "https://localhost:8080/",
          "height": 283
        },
        "id": "o-llLeSs7fc-",
        "outputId": "d39c7ef2-ac79-429e-c8ef-4f41cabdac6f"
      },
      "source": [
        "# visualizing the noise\n",
        "\n",
        "plt.imshow(fac_noise)"
      ],
      "execution_count": 66,
      "outputs": [
        {
          "output_type": "execute_result",
          "data": {
            "text/plain": [
              "<matplotlib.image.AxesImage at 0x7fd623869a50>"
            ]
          },
          "metadata": {},
          "execution_count": 66
        },
        {
          "output_type": "display_data",
          "data": {
            "image/png": "[encoded data removed]",
            "text/plain": [
              "<Figure size 432x288 with 1 Axes>"
            ]
          },
          "metadata": {
            "needs_background": "light"
          }
        }
      ]
    },
    {
      "cell_type": "code",
      "metadata": {
        "colab": {
          "base_uri": "https://localhost:8080/",
          "height": 320
        },
        "id": "q_ectz418BUa",
        "outputId": "49a0bb1f-a360-4c14-bae7-c9eb3136a952"
      },
      "source": [
        "# adding noise to a sample image\n",
        "plt.figure(figsize=(10,10))\n",
        "sample_image = x_train[20]\n",
        "sample_image_noise = sample_image + noise_factor * noise\n",
        "plt.subplot(1,2,1)\n",
        "plt.imshow(sample_image)\n",
        "plt.subplot(1,2,2)\n",
        "plt.imshow(sample_image_noise)"
      ],
      "execution_count": 67,
      "outputs": [
        {
          "output_type": "execute_result",
          "data": {
            "text/plain": [
              "<matplotlib.image.AxesImage at 0x7fd623756ad0>"
            ]
          },
          "metadata": {},
          "execution_count": 67
        },
        {
          "output_type": "display_data",
          "data": {
            "image/png": "[encoded data removed]",
            "text/plain": [
              "<Figure size 720x720 with 2 Axes>"
            ]
          },
          "metadata": {
            "needs_background": "light"
          }
        }
      ]
    },
    {
      "cell_type": "code",
      "metadata": {
        "colab": {
          "base_uri": "https://localhost:8080/"
        },
        "id": "EC56WSvDBhHy",
        "outputId": "787b52ec-4904-464c-abca-78c710ac5ffd"
      },
      "source": [
        "sample_image_noise.max()"
      ],
      "execution_count": 68,
      "outputs": [
        {
          "output_type": "execute_result",
          "data": {
            "text/plain": [
              "1.4986204885505012"
            ]
          },
          "metadata": {},
          "execution_count": 68
        }
      ]
    },
    {
      "cell_type": "code",
      "metadata": {
        "colab": {
          "base_uri": "https://localhost:8080/"
        },
        "id": "dpNp7WcpEMJs",
        "outputId": "a4fdc9d2-60a9-46ce-e3dd-f4e77d216946"
      },
      "source": [
        "sample_image_noise.min()"
      ],
      "execution_count": 69,
      "outputs": [
        {
          "output_type": "execute_result",
          "data": {
            "text/plain": [
              "-0.5802349498161755"
            ]
          },
          "metadata": {},
          "execution_count": 69
        }
      ]
    },
    {
      "cell_type": "code",
      "metadata": {
        "id": "ZTjVI-lrEPCF"
      },
      "source": [
        "# clipping the image in range 0 and 1\n",
        "\n",
        "sample_image_clipped = np.clip(sample_image_noise, 0.0, 1.0)\n",
        "\n"
      ],
      "execution_count": 70,
      "outputs": []
    },
    {
      "cell_type": "code",
      "metadata": {
        "colab": {
          "base_uri": "https://localhost:8080/",
          "height": 213
        },
        "id": "athAp15uEyS6",
        "outputId": "2de21175-b40b-4d8a-a2d4-7e31b30cce5b"
      },
      "source": [
        "# visualizing the images\n",
        "\n",
        "plt.figure(figsize=(10,10))\n",
        "\n",
        "plt.subplot(1,3,1)\n",
        "plt.imshow(sample_image)\n",
        "plt.subplot(1,3,2)\n",
        "plt.imshow(sample_image_noise)\n",
        "plt.subplot(1,3,3)\n",
        "plt.imshow(sample_image_clipped)\n",
        "plt.show()"
      ],
      "execution_count": 71,
      "outputs": [
        {
          "output_type": "display_data",
          "data": {
            "image/png": "[encoded data removed]",
            "text/plain": [
              "<Figure size 720x720 with 3 Axes>"
            ]
          },
          "metadata": {
            "needs_background": "light"
          }
        }
      ]
    },
    {
      "cell_type": "code",
      "metadata": {
        "id": "_P58JQswFeDC"
      },
      "source": [
        "# adding noise to the train data\n",
        "\n",
        "x_train_noise = []\n",
        "noise = np.random.randn( *(28,28))\n",
        "noise_factor = 0.2\n",
        "\n",
        "for image in x_train:\n",
        "  noise_image = image + noise_factor * noise\n",
        "  noise_image = np.clip(noise_image, 0.0, 1.0)\n",
        "  x_train_noise.append(noise_image)"
      ],
      "execution_count": 72,
      "outputs": []
    },
    {
      "cell_type": "code",
      "metadata": {
        "colab": {
          "base_uri": "https://localhost:8080/"
        },
        "id": "VjWcX-0NHAyD",
        "outputId": "9c1c04ba-f0d0-4eef-ea38-38d568301018"
      },
      "source": [
        "# converting list to array\n",
        "x_train_noise = np.array(x_train_noise)\n",
        "\n",
        "x_train_noise.shape"
      ],
      "execution_count": 73,
      "outputs": [
        {
          "output_type": "execute_result",
          "data": {
            "text/plain": [
              "(60000, 28, 28)"
            ]
          },
          "metadata": {},
          "execution_count": 73
        }
      ]
    },
    {
      "cell_type": "code",
      "metadata": {
        "colab": {
          "base_uri": "https://localhost:8080/",
          "height": 283
        },
        "id": "ghV4exBAI9Ml",
        "outputId": "4f72b8d0-aa2b-480e-a8ae-c645832ec5f6"
      },
      "source": [
        "# visualizing train data\n",
        "\n",
        "plt.imshow(x_train_noise[10])\n"
      ],
      "execution_count": 77,
      "outputs": [
        {
          "output_type": "execute_result",
          "data": {
            "text/plain": [
              "<matplotlib.image.AxesImage at 0x7fd623670490>"
            ]
          },
          "metadata": {},
          "execution_count": 77
        },
        {
          "output_type": "display_data",
          "data": {
            "image/png": "[encoded data removed]",
            "text/plain": [
              "<Figure size 432x288 with 1 Axes>"
            ]
          },
          "metadata": {
            "needs_background": "light"
          }
        }
      ]
    },
    {
      "cell_type": "code",
      "metadata": {
        "id": "5OadrhbZHFzd"
      },
      "source": [
        "# adding noise to test data\n",
        "\n",
        "x_test_noise = []\n",
        "noise = np.random.randn(*(28,28))\n",
        "noise_factor = 0.2\n",
        "\n",
        "for image in x_test:\n",
        "  noise_image = image + noise_factor * noise\n",
        "  noise_image = np.clip(noise_image, 0.0, 1.0)\n",
        "  x_test_noise.append(noise_image)"
      ],
      "execution_count": 74,
      "outputs": []
    },
    {
      "cell_type": "code",
      "metadata": {
        "colab": {
          "base_uri": "https://localhost:8080/"
        },
        "id": "q4wspj9-IpGe",
        "outputId": "d702d77b-f79d-4cc9-acf4-035d818875a3"
      },
      "source": [
        "x_test_noise = np.array(x_test_noise)\n",
        "\n",
        "x_test_noise.shape"
      ],
      "execution_count": 76,
      "outputs": [
        {
          "output_type": "execute_result",
          "data": {
            "text/plain": [
              "(10000, 28, 28)"
            ]
          },
          "metadata": {},
          "execution_count": 76
        }
      ]
    },
    {
      "cell_type": "code",
      "metadata": {
        "colab": {
          "base_uri": "https://localhost:8080/",
          "height": 283
        },
        "id": "YP-V4i9NIwoJ",
        "outputId": "c0e29e28-57d3-4097-b022-533003939c68"
      },
      "source": [
        "# visualizing the test data\n",
        "\n",
        "plt.imshow(x_test_noise[10])"
      ],
      "execution_count": 78,
      "outputs": [
        {
          "output_type": "execute_result",
          "data": {
            "text/plain": [
              "<matplotlib.image.AxesImage at 0x7fd623167950>"
            ]
          },
          "metadata": {},
          "execution_count": 78
        },
        {
          "output_type": "display_data",
          "data": {
            "image/png": "[encoded data removed]",
            "text/plain": [
              "<Figure size 432x288 with 1 Axes>"
            ]
          },
          "metadata": {
            "needs_background": "light"
          }
        }
      ]
    },
    {
      "cell_type": "code",
      "metadata": {
        "id": "nYumt9ckJR4s"
      },
      "source": [
        "# building the autoencoder model\n",
        "import tensorflow as tf\n",
        "from tensorflow.keras import layers\n",
        "model = tf.keras.Sequential([\n",
        "                             # encoder\n",
        "                             layers.Conv2D(filters= 16,kernel_size= 3, strides= 1, padding= \"same\", input_shape =(28,28,1)),\n",
        "                             layers.MaxPooling2D(pool_size= 2, padding=\"same\"),\n",
        "                             layers.Conv2D(filters= 8, kernel_size= 3, strides= 1, padding = \"same\"),\n",
        "                             layers.MaxPooling2D(pool_size= 2, padding = \"same\"),\n",
        "                             layers.Conv2D(filters= 8, kernel_size= 3, padding = \"same\"),\n",
        "\n",
        "                             # decoder\n",
        "                             layers.UpSampling2D(size= 2),\n",
        "                             layers.Conv2DTranspose(filters= 8, kernel_size= 3, strides= 1, padding=\"same\"),\n",
        "                             layers.UpSampling2D(size= 2),\n",
        "                             layers.Conv2DTranspose(filters= 1, kernel_size= 3, strides = 1, activation= \"sigmoid\", padding = \"same\")\n",
        "])\n"
      ],
      "execution_count": 81,
      "outputs": []
    },
    {
      "cell_type": "code",
      "metadata": {
        "colab": {
          "base_uri": "https://localhost:8080/"
        },
        "id": "Ubb_Jie_QBBS",
        "outputId": "9be7e90d-9fa7-41eb-d886-b566aedae23c"
      },
      "source": [
        "model.summary()"
      ],
      "execution_count": 82,
      "outputs": [
        {
          "output_type": "stream",
          "name": "stdout",
          "text": [
            "Model: \"sequential\"\n",
            "_________________________________________________________________\n",
            "Layer (type)                 Output Shape              Param #   \n",
            "=================================================================\n",
            "conv2d (Conv2D)              (None, 28, 28, 16)        160       \n",
            "_________________________________________________________________\n",
            "max_pooling2d (MaxPooling2D) (None, 14, 14, 16)        0         \n",
            "_________________________________________________________________\n",
            "conv2d_1 (Conv2D)            (None, 14, 14, 8)         1160      \n",
            "_________________________________________________________________\n",
            "max_pooling2d_1 (MaxPooling2 (None, 7, 7, 8)           0         \n",
            "_________________________________________________________________\n",
            "conv2d_2 (Conv2D)            (None, 7, 7, 8)           584       \n",
            "_________________________________________________________________\n",
            "up_sampling2d (UpSampling2D) (None, 14, 14, 8)         0         \n",
            "_________________________________________________________________\n",
            "conv2d_transpose (Conv2DTran (None, 14, 14, 8)         584       \n",
            "_________________________________________________________________\n",
            "up_sampling2d_1 (UpSampling2 (None, 28, 28, 8)         0         \n",
            "_________________________________________________________________\n",
            "conv2d_transpose_1 (Conv2DTr (None, 28, 28, 1)         73        \n",
            "=================================================================\n",
            "Total params: 2,561\n",
            "Trainable params: 2,561\n",
            "Non-trainable params: 0\n",
            "_________________________________________________________________\n"
          ]
        }
      ]
    },
    {
      "cell_type": "code",
      "metadata": {
        "id": "GbwdkZLmQA8y"
      },
      "source": [
        "# compiling the model\n",
        "model.compile(\n",
        "    loss = tf.keras.losses.binary_crossentropy,\n",
        "    optimizer = tf.keras.optimizers.Adam(learning_rate= 0.001),\n",
        "    metrics = [\"accuracy\"]\n",
        "    \n",
        ")"
      ],
      "execution_count": 87,
      "outputs": []
    },
    {
      "cell_type": "code",
      "metadata": {
        "colab": {
          "base_uri": "https://localhost:8080/"
        },
        "id": "QN1bVB1ZQA3c",
        "outputId": "bf203961-7b03-489a-d10c-aec71f455a01"
      },
      "source": [
        "# fitting the data\n",
        "\n",
        "model.fit(x_train_noise.reshape(-1,28,28,1),\n",
        "          x_train.reshape(-1,28,28,1),\n",
        "          epochs = 10,\n",
        "          batch_size = 200)"
      ],
      "execution_count": 88,
      "outputs": [
        {
          "output_type": "stream",
          "name": "stdout",
          "text": [
            "Epoch 1/10\n",
            "300/300 [==============================] - 42s 138ms/step - loss: 0.0832 - accuracy: 0.8148\n",
            "Epoch 2/10\n",
            "300/300 [==============================] - 41s 137ms/step - loss: 0.0823 - accuracy: 0.8148\n",
            "Epoch 3/10\n",
            "300/300 [==============================] - 41s 138ms/step - loss: 0.0818 - accuracy: 0.8149\n",
            "Epoch 4/10\n",
            "300/300 [==============================] - 41s 138ms/step - loss: 0.0813 - accuracy: 0.8149\n",
            "Epoch 5/10\n",
            "300/300 [==============================] - 41s 138ms/step - loss: 0.0809 - accuracy: 0.8149\n",
            "Epoch 6/10\n",
            "300/300 [==============================] - 41s 137ms/step - loss: 0.0805 - accuracy: 0.8149\n",
            "Epoch 7/10\n",
            "300/300 [==============================] - 41s 137ms/step - loss: 0.0802 - accuracy: 0.8149\n",
            "Epoch 8/10\n",
            "300/300 [==============================] - 41s 137ms/step - loss: 0.0799 - accuracy: 0.8150\n",
            "Epoch 9/10\n",
            "300/300 [==============================] - 41s 137ms/step - loss: 0.0797 - accuracy: 0.8150\n",
            "Epoch 10/10\n",
            "300/300 [==============================] - 41s 137ms/step - loss: 0.0795 - accuracy: 0.8150\n"
          ]
        },
        {
          "output_type": "execute_result",
          "data": {
            "text/plain": [
              "<keras.callbacks.History at 0x7fd61f15ea90>"
            ]
          },
          "metadata": {},
          "execution_count": 88
        }
      ]
    },
    {
      "cell_type": "code",
      "metadata": {
        "id": "oOV9gP9dQAyD"
      },
      "source": [
        "# evaluating the model\n",
        "predicted_image = model.predict(x_test_noise[:10].reshape(-1,28,28,1))"
      ],
      "execution_count": 89,
      "outputs": []
    },
    {
      "cell_type": "code",
      "metadata": {
        "colab": {
          "base_uri": "https://localhost:8080/"
        },
        "id": "4EnFfrceQAuz",
        "outputId": "47e53a33-322b-4c14-dee2-4e55cea66405"
      },
      "source": [
        "predicted_image.shape"
      ],
      "execution_count": 90,
      "outputs": [
        {
          "output_type": "execute_result",
          "data": {
            "text/plain": [
              "(10, 28, 28, 1)"
            ]
          },
          "metadata": {},
          "execution_count": 90
        }
      ]
    },
    {
      "cell_type": "code",
      "metadata": {
        "colab": {
          "base_uri": "https://localhost:8080/",
          "height": 286
        },
        "id": "VNpsJRGuQAhs",
        "outputId": "ea167c2a-71b6-4d13-c832-bf7eea20cd69"
      },
      "source": [
        "# visualizing the result\n",
        "\n",
        "fig, axes = plt.subplots(nrows= 2, ncols= 10, figsize = (30,8))\n",
        "\n",
        "for images, row in zip([x_test_noise[:10], predicted_image], axes):\n",
        "  for img, ax in zip(images, row):\n",
        "    ax.imshow(img.reshape((28,28)))"
      ],
      "execution_count": 92,
      "outputs": [
        {
          "output_type": "display_data",
          "data": {
            "image/png": "[encoded data removed]",
            "text/plain": [
              "<Figure size 2160x576 with 20 Axes>"
            ]
          },
          "metadata": {
            "needs_background": "light"
          }
        }
      ]
    }
  ]
}